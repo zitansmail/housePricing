{
 "cells": [
  {
   "cell_type": "code",
   "execution_count": 29,
   "id": "2fccbbe2",
   "metadata": {},
   "outputs": [],
   "source": [
    "import numpy as np\n",
    "import matplotlib.pyplot as plt\n",
    "from sklearn.datasets import make_regression"
   ]
  },
  {
   "cell_type": "code",
   "execution_count": 30,
   "id": "4ad0da23",
   "metadata": {},
   "outputs": [],
   "source": [
    "x , Y = make_regression(n_samples=100, n_features=1, noise=10)"
   ]
  },
  {
   "cell_type": "code",
   "execution_count": 31,
   "id": "6815d378",
   "metadata": {},
   "outputs": [
    {
     "data": {
      "text/plain": [
       "(100, 1)"
      ]
     },
     "execution_count": 31,
     "metadata": {},
     "output_type": "execute_result"
    }
   ],
   "source": [
    "Y.shape\n",
    "Y = Y.reshape(100,-1)\n",
    "Y.shape"
   ]
  },
  {
   "cell_type": "code",
   "execution_count": 32,
   "id": "5e11a070",
   "metadata": {},
   "outputs": [
    {
     "data": {
      "text/plain": [
       "<matplotlib.collections.PathCollection at 0x1fe70a33700>"
      ]
     },
     "execution_count": 32,
     "metadata": {},
     "output_type": "execute_result"
    },
    {
     "data": {
      "image/png": "[encoded data removed]",
      "text/plain": [
       "<Figure size 432x288 with 1 Axes>"
      ]
     },
     "metadata": {
      "needs_background": "light"
     },
     "output_type": "display_data"
    }
   ],
   "source": [
    "plt.scatter(x, Y)"
   ]
  },
  {
   "cell_type": "code",
   "execution_count": 33,
   "id": "6ce3dc51",
   "metadata": {},
   "outputs": [],
   "source": [
    "X = np.hstack((x , np.ones(x.shape)))"
   ]
  },
  {
   "cell_type": "code",
   "execution_count": 34,
   "id": "b9d6c3cb",
   "metadata": {},
   "outputs": [
    {
     "data": {
      "text/plain": [
       "(10, 2)"
      ]
     },
     "execution_count": 34,
     "metadata": {},
     "output_type": "execute_result"
    }
   ],
   "source": [
    "X[:10].shape"
   ]
  },
  {
   "cell_type": "code",
   "execution_count": 35,
   "id": "48cab11b",
   "metadata": {},
   "outputs": [
    {
     "data": {
      "text/plain": [
       "array([[-1.12526944],\n",
       "       [-1.01234482]])"
      ]
     },
     "execution_count": 35,
     "metadata": {},
     "output_type": "execute_result"
    }
   ],
   "source": [
    "theta = np.random.randn(2,1)\n",
    "theta"
   ]
  },
  {
   "cell_type": "code",
   "execution_count": 36,
   "id": "2bc0bbc0",
   "metadata": {},
   "outputs": [],
   "source": [
    "def model_function(theta,x):\n",
    "    return x.dot(theta)"
   ]
  },
  {
   "cell_type": "code",
   "execution_count": 37,
   "id": "df3c1e64",
   "metadata": {},
   "outputs": [
    {
     "data": {
      "text/plain": [
       "(100, 1)"
      ]
     },
     "execution_count": 37,
     "metadata": {},
     "output_type": "execute_result"
    }
   ],
   "source": [
    "model = model_function(theta, X)\n",
    "model.shape"
   ]
  },
  {
   "cell_type": "code",
   "execution_count": 38,
   "id": "4abd0b12",
   "metadata": {},
   "outputs": [
    {
     "data": {
      "text/plain": [
       "<matplotlib.collections.PathCollection at 0x1fe70a8aeb0>"
      ]
     },
     "execution_count": 38,
     "metadata": {},
     "output_type": "execute_result"
    },
    {
     "data": {
      "image/png": "[encoded data removed]",
      "text/plain": [
       "<Figure size 432x288 with 1 Axes>"
      ]
     },
     "metadata": {
      "needs_background": "light"
     },
     "output_type": "display_data"
    }
   ],
   "source": [
    "plt.plot(x, model, c='r')\n",
    "plt.scatter(x, Y)"
   ]
  },
  {
   "cell_type": "code",
   "execution_count": 39,
   "id": "71a9f3ad",
   "metadata": {},
   "outputs": [],
   "source": [
    "# loss_function\n",
    "def cost_function(theta, x, y):\n",
    "    m = x.shape[0]\n",
    "    return 1/(2*m) * np.sum((x.dot(theta) - y)**2)"
   ]
  },
  {
   "cell_type": "code",
   "execution_count": 40,
   "id": "90ee114f",
   "metadata": {},
   "outputs": [
    {
     "data": {
      "text/plain": [
       "1147.1617727687694"
      ]
     },
     "execution_count": 40,
     "metadata": {},
     "output_type": "execute_result"
    }
   ],
   "source": [
    "cost_function(theta ,X ,Y)"
   ]
  },
  {
   "cell_type": "code",
   "execution_count": 41,
   "id": "2081b74f",
   "metadata": {},
   "outputs": [],
   "source": [
    "def grad(theta , X, y):\n",
    "    m = X.shape[0]\n",
    "    #print(X.dot(theta).shape,Y.shape)\n",
    "    #sys.exit(0)\n",
    "    return 1/m * X.T.dot(X.dot(theta) - y)"
   ]
  },
  {
   "cell_type": "code",
   "execution_count": 42,
   "id": "38614778",
   "metadata": {},
   "outputs": [
    {
     "data": {
      "text/plain": [
       "array([[-43.89101131],\n",
       "       [ -2.9532171 ]])"
      ]
     },
     "execution_count": 42,
     "metadata": {},
     "output_type": "execute_result"
    }
   ],
   "source": [
    "grad(theta , X ,Y)"
   ]
  },
  {
   "cell_type": "code",
   "execution_count": 43,
   "id": "b891a090",
   "metadata": {},
   "outputs": [],
   "source": [
    "def descent_grad(theta, X , Y ,learning_rate=0.1 , n_iteration=40):\n",
    "    history_learning = np.zeros(40)\n",
    "    for i in range(0, n_iteration):\n",
    "        theta = theta - learning_rate * grad(theta,X ,Y)\n",
    "        history_learning[i] = cost_function(theta , X, Y)\n",
    "    return theta, history_learning"
   ]
  },
  {
   "cell_type": "code",
   "execution_count": 44,
   "id": "4b2508d2",
   "metadata": {},
   "outputs": [],
   "source": [
    "final_theta , history = descent_grad(theta, X , Y)"
   ]
  },
  {
   "cell_type": "code",
   "execution_count": 45,
   "id": "bae30c51",
   "metadata": {},
   "outputs": [
    {
     "data": {
      "text/plain": [
       "(40,)"
      ]
     },
     "execution_count": 45,
     "metadata": {},
     "output_type": "execute_result"
    }
   ],
   "source": [
    "history.shape"
   ]
  },
  {
   "cell_type": "code",
   "execution_count": 46,
   "id": "43bc207a",
   "metadata": {},
   "outputs": [],
   "source": [
    "pred = model_function(final_theta, X)"
   ]
  },
  {
   "cell_type": "code",
   "execution_count": 47,
   "id": "c2d686ab",
   "metadata": {},
   "outputs": [
    {
     "data": {
      "text/plain": [
       "[<matplotlib.lines.Line2D at 0x1fe70b26f10>]"
      ]
     },
     "execution_count": 47,
     "metadata": {},
     "output_type": "execute_result"
    },
    {
     "data": {
      "image/png": "[encoded data removed]",
      "text/plain": [
       "<Figure size 432x288 with 1 Axes>"
      ]
     },
     "metadata": {
      "needs_background": "light"
     },
     "output_type": "display_data"
    }
   ],
   "source": [
    "plt.scatter(x , Y)\n",
    "plt.plot(x, pred, c='r')"
   ]
  },
  {
   "cell_type": "code",
   "execution_count": 48,
   "id": "ec361985",
   "metadata": {},
   "outputs": [
    {
     "data": {
      "text/plain": [
       "Text(0, 0.5, 'los_funtion (MSE)')"
      ]
     },
     "execution_count": 48,
     "metadata": {},
     "output_type": "execute_result"
    },
    {
     "data": {
      "image/png": "[encoded data removed]",
      "text/plain": [
       "<Figure size 432x288 with 1 Axes>"
      ]
     },
     "metadata": {
      "needs_background": "light"
     },
     "output_type": "display_data"
    }
   ],
   "source": [
    "plt.plot(range(0,40), history)\n",
    "plt.title('los_history')\n",
    "plt.xlabel('Iteration number')\n",
    "plt.ylabel('los_funtion (MSE)')"
   ]
  }
 ],
 "metadata": {
  "kernelspec": {
   "display_name": "Python 3",
   "language": "python",
   "name": "python3"
  },
  "language_info": {
   "codemirror_mode": {
    "name": "ipython",
    "version": 3
   },
   "file_extension": ".py",
   "mimetype": "text/x-python",
   "name": "python",
   "nbconvert_exporter": "python",
   "pygments_lexer": "ipython3",
   "version": "3.8.8"
  }
 },
 "nbformat": 4,
 "nbformat_minor": 5
}
